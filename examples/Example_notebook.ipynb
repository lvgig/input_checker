{
 "cells": [
  {
   "cell_type": "markdown",
   "metadata": {},
   "source": [
    "# InputChecker Example Notebook"
   ]
  },
  {
   "cell_type": "markdown",
   "metadata": {},
   "source": [
    "This notebook shows the functionality of the InputChecker class. The fit method stores information about a benchmark dataset, such as the data type and range for each column, and the transformer checks that a new/comparison dataset matches these expectations.\n",
    "\n",
    "The transformer performs 5 separate checks:\n",
    "* The columns are of the correct type\n",
    "* The correct columns are allowed to contain nulls\n",
    "* Categorical columns contain only accepted values\n",
    "* Numerical columns contain only values within the minimum and maximum limits\n",
    "* Datetime columns contain only dates beyond the minimum date limit and (optionally) before the maximum date limit\n",
    "\n",
    "There are currently no checks related to the relationship between columns (e.g. values in column1 must always be higher than column2) but there are plans for these to be potentially added in the future"
   ]
  },
  {
   "cell_type": "markdown",
   "metadata": {},
   "source": [
    "## Setup"
   ]
  },
  {
   "cell_type": "code",
   "execution_count": 1,
   "metadata": {
    "ExecuteTime": {
     "end_time": "2021-02-26T15:28:02.091184Z",
     "start_time": "2021-02-26T15:28:00.903176Z"
    }
   },
   "outputs": [],
   "source": [
    "import pandas as pd\n",
    "import numpy as np\n",
    "from sklearn.datasets import load_wine\n",
    "from sklearn.model_selection import train_test_split\n",
    "\n",
    "import input_checker\n",
    "from input_checker.checker import InputChecker\n",
    "from datetime import timedelta, datetime"
   ]
  },
  {
   "cell_type": "code",
   "execution_count": 2,
   "metadata": {},
   "outputs": [
    {
     "data": {
      "text/plain": [
       "'0.3.7'"
      ]
     },
     "execution_count": 2,
     "metadata": {},
     "output_type": "execute_result"
    }
   ],
   "source": [
    "input_checker.__version__"
   ]
  },
  {
   "cell_type": "markdown",
   "metadata": {},
   "source": [
    "## Prepare data"
   ]
  },
  {
   "cell_type": "markdown",
   "metadata": {},
   "source": [
    "We will use the wine dataset from sklearn to demonstrate the input_checker functionality. We will add some categorical and datetime fields as well as missing values to existing fields."
   ]
  },
  {
   "cell_type": "code",
   "execution_count": 3,
   "metadata": {},
   "outputs": [],
   "source": [
    "wine = load_wine()"
   ]
  },
  {
   "cell_type": "code",
   "execution_count": 4,
   "metadata": {},
   "outputs": [],
   "source": [
    "df_wine = pd.DataFrame(wine['data'], columns = wine['feature_names'])\n",
    "df_wine['target'] = wine['target']"
   ]
  },
  {
   "cell_type": "markdown",
   "metadata": {},
   "source": [
    "### Add categorical columns"
   ]
  },
  {
   "cell_type": "code",
   "execution_count": 5,
   "metadata": {},
   "outputs": [],
   "source": [
    "np.random.seed(seed=123)\n",
    "df_wine['polytunnel'] = np.random.choice([0, 1], df_wine.shape[0])\n",
    "\n",
    "np.random.seed(seed=123)\n",
    "df_wine['pesticide'] = np.random.choice(['contact', 'systemic', 'pre-emergence', 'post-emergence', 'selective', 'nonselective', None], df_wine.shape[0])"
   ]
  },
  {
   "cell_type": "markdown",
   "metadata": {},
   "source": [
    "### Add datetime columns"
   ]
  },
  {
   "cell_type": "code",
   "execution_count": 6,
   "metadata": {},
   "outputs": [],
   "source": [
    "def random_date(min_date, max_date, sample_size, seed=0):\n",
    "    \"\"\"\n",
    "    Function to generate a random array of dates\n",
    "    \"\"\"\n",
    "\n",
    "    np.random.seed(seed=seed)\n",
    "\n",
    "    if (max_date - min_date).total_seconds() < 0:\n",
    "        raise ValueError(\"max_date must be at a later date than min_date\")\n",
    "\n",
    "    prop = np.random.random(size=sample_size)\n",
    "\n",
    "    rand_dates = np.array(\n",
    "        [min_date + p * (max_date - min_date) for p in prop], dtype=\"datetime64[s]\"\n",
    "    )\n",
    "\n",
    "    return rand_dates"
   ]
  },
  {
   "cell_type": "code",
   "execution_count": 7,
   "metadata": {},
   "outputs": [],
   "source": [
    "df_wine['date_logged'] = random_date(pd.Timestamp('01/01/2021'), pd.Timestamp('01/06/2021'), df_wine.shape[0], seed=123)\n",
    "df_wine['first_harvest'] = random_date(pd.Timestamp('01/08/2020'), pd.Timestamp('30/09/2020'), df_wine.shape[0], seed=123)\n",
    "\n",
    "# add nulls\n",
    "df_wine['first_harvest'] = pd.to_datetime(np.where(df_wine['first_harvest'].dt.second > 50, pd.Timestamp(np.nan), df_wine['first_harvest']))\n",
    "\n",
    "# remove time and just keep date\n",
    "df_wine['first_harvest'] = pd.to_datetime(df_wine['first_harvest'].dt.date)"
   ]
  },
  {
   "cell_type": "markdown",
   "metadata": {},
   "source": [
    "### Add missing values to existing fields"
   ]
  },
  {
   "cell_type": "code",
   "execution_count": 8,
   "metadata": {},
   "outputs": [],
   "source": [
    "df_wine.loc[df_wine.sample(5, random_state=123).index.values, 'ash'] = np.nan\n",
    "df_wine.loc[df_wine.sample(21, random_state=123).index.values, 'magnesium'] = np.nan\n",
    "df_wine.loc[df_wine.sample(105, random_state=123).index.values, 'hue'] = np.nan"
   ]
  },
  {
   "cell_type": "markdown",
   "metadata": {},
   "source": [
    "### Split into train and test"
   ]
  },
  {
   "cell_type": "code",
   "execution_count": 9,
   "metadata": {},
   "outputs": [],
   "source": [
    "df_train, df_test = train_test_split(df_wine, test_size=0.2)"
   ]
  },
  {
   "cell_type": "code",
   "execution_count": 10,
   "metadata": {},
   "outputs": [
    {
     "data": {
      "text/html": [
       "<div>\n",
       "<style scoped>\n",
       "    .dataframe tbody tr th:only-of-type {\n",
       "        vertical-align: middle;\n",
       "    }\n",
       "\n",
       "    .dataframe tbody tr th {\n",
       "        vertical-align: top;\n",
       "    }\n",
       "\n",
       "    .dataframe thead th {\n",
       "        text-align: right;\n",
       "    }\n",
       "</style>\n",
       "<table border=\"1\" class=\"dataframe\">\n",
       "  <thead>\n",
       "    <tr style=\"text-align: right;\">\n",
       "      <th></th>\n",
       "      <th>alcohol</th>\n",
       "      <th>malic_acid</th>\n",
       "      <th>ash</th>\n",
       "      <th>alcalinity_of_ash</th>\n",
       "      <th>magnesium</th>\n",
       "      <th>total_phenols</th>\n",
       "      <th>flavanoids</th>\n",
       "      <th>nonflavanoid_phenols</th>\n",
       "      <th>proanthocyanins</th>\n",
       "      <th>color_intensity</th>\n",
       "      <th>hue</th>\n",
       "      <th>od280/od315_of_diluted_wines</th>\n",
       "      <th>proline</th>\n",
       "      <th>target</th>\n",
       "      <th>polytunnel</th>\n",
       "      <th>pesticide</th>\n",
       "      <th>date_logged</th>\n",
       "      <th>first_harvest</th>\n",
       "    </tr>\n",
       "  </thead>\n",
       "  <tbody>\n",
       "    <tr>\n",
       "      <th>123</th>\n",
       "      <td>13.05</td>\n",
       "      <td>5.80</td>\n",
       "      <td>2.13</td>\n",
       "      <td>21.5</td>\n",
       "      <td>86.0</td>\n",
       "      <td>2.62</td>\n",
       "      <td>2.65</td>\n",
       "      <td>0.30</td>\n",
       "      <td>2.01</td>\n",
       "      <td>2.60</td>\n",
       "      <td>0.73</td>\n",
       "      <td>3.10</td>\n",
       "      <td>380.0</td>\n",
       "      <td>1</td>\n",
       "      <td>1</td>\n",
       "      <td>selective</td>\n",
       "      <td>2021-01-03 14:24:04</td>\n",
       "      <td>2020-05-25</td>\n",
       "    </tr>\n",
       "    <tr>\n",
       "      <th>121</th>\n",
       "      <td>11.56</td>\n",
       "      <td>2.05</td>\n",
       "      <td>3.23</td>\n",
       "      <td>28.5</td>\n",
       "      <td>119.0</td>\n",
       "      <td>3.18</td>\n",
       "      <td>5.08</td>\n",
       "      <td>0.47</td>\n",
       "      <td>1.87</td>\n",
       "      <td>6.00</td>\n",
       "      <td>NaN</td>\n",
       "      <td>3.69</td>\n",
       "      <td>465.0</td>\n",
       "      <td>1</td>\n",
       "      <td>0</td>\n",
       "      <td>systemic</td>\n",
       "      <td>2021-01-02 00:54:58</td>\n",
       "      <td>2020-03-03</td>\n",
       "    </tr>\n",
       "    <tr>\n",
       "      <th>167</th>\n",
       "      <td>12.82</td>\n",
       "      <td>3.37</td>\n",
       "      <td>2.30</td>\n",
       "      <td>19.5</td>\n",
       "      <td>88.0</td>\n",
       "      <td>1.48</td>\n",
       "      <td>0.66</td>\n",
       "      <td>0.40</td>\n",
       "      <td>0.97</td>\n",
       "      <td>10.26</td>\n",
       "      <td>NaN</td>\n",
       "      <td>1.75</td>\n",
       "      <td>685.0</td>\n",
       "      <td>2</td>\n",
       "      <td>0</td>\n",
       "      <td>nonselective</td>\n",
       "      <td>2021-01-05 15:18:33</td>\n",
       "      <td>NaT</td>\n",
       "    </tr>\n",
       "    <tr>\n",
       "      <th>144</th>\n",
       "      <td>12.25</td>\n",
       "      <td>3.88</td>\n",
       "      <td>2.20</td>\n",
       "      <td>18.5</td>\n",
       "      <td>112.0</td>\n",
       "      <td>1.38</td>\n",
       "      <td>0.78</td>\n",
       "      <td>0.29</td>\n",
       "      <td>1.14</td>\n",
       "      <td>8.21</td>\n",
       "      <td>NaN</td>\n",
       "      <td>2.00</td>\n",
       "      <td>855.0</td>\n",
       "      <td>2</td>\n",
       "      <td>1</td>\n",
       "      <td>systemic</td>\n",
       "      <td>2021-01-03 06:53:21</td>\n",
       "      <td>2020-05-08</td>\n",
       "    </tr>\n",
       "    <tr>\n",
       "      <th>41</th>\n",
       "      <td>13.41</td>\n",
       "      <td>3.84</td>\n",
       "      <td>2.12</td>\n",
       "      <td>18.8</td>\n",
       "      <td>NaN</td>\n",
       "      <td>2.45</td>\n",
       "      <td>2.68</td>\n",
       "      <td>0.27</td>\n",
       "      <td>1.48</td>\n",
       "      <td>4.28</td>\n",
       "      <td>NaN</td>\n",
       "      <td>3.00</td>\n",
       "      <td>1035.0</td>\n",
       "      <td>0</td>\n",
       "      <td>1</td>\n",
       "      <td>selective</td>\n",
       "      <td>2021-01-01 13:52:27</td>\n",
       "      <td>2020-02-07</td>\n",
       "    </tr>\n",
       "  </tbody>\n",
       "</table>\n",
       "</div>"
      ],
      "text/plain": [
       "     alcohol  malic_acid   ash  alcalinity_of_ash  magnesium  total_phenols  \\\n",
       "123    13.05        5.80  2.13               21.5       86.0           2.62   \n",
       "121    11.56        2.05  3.23               28.5      119.0           3.18   \n",
       "167    12.82        3.37  2.30               19.5       88.0           1.48   \n",
       "144    12.25        3.88  2.20               18.5      112.0           1.38   \n",
       "41     13.41        3.84  2.12               18.8        NaN           2.45   \n",
       "\n",
       "     flavanoids  nonflavanoid_phenols  proanthocyanins  color_intensity   hue  \\\n",
       "123        2.65                  0.30             2.01             2.60  0.73   \n",
       "121        5.08                  0.47             1.87             6.00   NaN   \n",
       "167        0.66                  0.40             0.97            10.26   NaN   \n",
       "144        0.78                  0.29             1.14             8.21   NaN   \n",
       "41         2.68                  0.27             1.48             4.28   NaN   \n",
       "\n",
       "     od280/od315_of_diluted_wines  proline  target  polytunnel     pesticide  \\\n",
       "123                          3.10    380.0       1           1     selective   \n",
       "121                          3.69    465.0       1           0      systemic   \n",
       "167                          1.75    685.0       2           0  nonselective   \n",
       "144                          2.00    855.0       2           1      systemic   \n",
       "41                           3.00   1035.0       0           1     selective   \n",
       "\n",
       "            date_logged first_harvest  \n",
       "123 2021-01-03 14:24:04    2020-05-25  \n",
       "121 2021-01-02 00:54:58    2020-03-03  \n",
       "167 2021-01-05 15:18:33           NaT  \n",
       "144 2021-01-03 06:53:21    2020-05-08  \n",
       "41  2021-01-01 13:52:27    2020-02-07  "
      ]
     },
     "execution_count": 10,
     "metadata": {},
     "output_type": "execute_result"
    }
   ],
   "source": [
    "df_train.head()"
   ]
  },
  {
   "cell_type": "markdown",
   "metadata": {},
   "source": [
    "## Initialize input checker"
   ]
  },
  {
   "cell_type": "markdown",
   "metadata": {},
   "source": [
    "When initializing the input checker object, the user must specify the following parameters;\n",
    "\n",
    "* `columns` the list of columns contained within the dataframe to run the type and null checks on. The default value is <b>None</b>, this means all columns are included in the check.\n",
    "* `categorical_columns` the list of columns to run the categorical check on. The default value is <b>None</b> which skips this check. Finally, if `categorical_columns` is set equal to <b>\"infer\"</b>, the object will automatically run the categorical check on any columns of the following types: 'category', 'boolean' and 'object'.\n",
    "* `numerical_columns` the list of columns to run the numerical check on. The default value is <b>None</b> which skips this check and the <b>\"infer\"</b> option is also available which automatically runs the check on 'float' and 'int' columns. Finally, a dictionary may be defined for the `numerical_columns` parameter where the key values are the column names to run the check on, these must themselves contain a 'maximum' and 'minimum' keys within them which themselves contain a boolean True or False to define if a maximum and / or minimum value check is desired.\n",
    "* `datetime_columns` the list of columns to run the datetime check on. The default value is <b>None</b> which skips this check and the <b>\"infer\"</b> option is also available which automatically runs the check on 'float' and 'int' columns. Finally, a dictionary may be defined for the `datetime_columns` parameter where the key values are the column names to run the check on, these must themselves contain a 'maximum' and 'minimum' keys within them which themselves contain a boolean True or False to define if a maximum and / or minimum value check is desired.\n",
    "* `skip_infer_columns` the list of columns to be excluded from the <b>\"infer\"</b> column selection for the `categorical_columns`, `numerical_columns` & `datetime_columns` parameters, these will still be included in the null and type checks. The default value is <b>None</b>, this means all that all columns included in the `columns` parameter will be included in the <b>\"infer\"</b> check.\n"
   ]
  },
  {
   "cell_type": "markdown",
   "metadata": {},
   "source": [
    "<b>IMPORTANT: INFER FRINGE CASES!</b>\n",
    "\n",
    "With the `numerical_columns` infer option, columns such as index or an ID on a typical use case which are numerical will raise an exception as new entries will not be contained within the accepted range. \n",
    "\n",
    "With the `categorical_columns` infer option, columns such as free text fields will be caught as categorical, this can lead to both extremely high execution times as well as a very likely InputChecker error on transfrom. \n",
    "\n",
    "In these cases it is recommended that the user specifies any ID / free-text fields using `skip_infer_columns` so that they are skipped by the infer column selection, alternatively, columns that are not defined in the columns parameter will not be picked up by the infer columns option either but then they wont have any type or null checks applied to them."
   ]
  },
  {
   "cell_type": "code",
   "execution_count": 11,
   "metadata": {
    "ExecuteTime": {
     "end_time": "2021-02-26T15:31:45.179674Z",
     "start_time": "2021-02-26T15:31:45.174675Z"
    }
   },
   "outputs": [],
   "source": [
    "categorical_columns = ['polytunnel', 'pesticide']\n",
    "\n",
    "numerical_columns = ['alcohol', 'malic_acid', 'ash', 'alcalinity_of_ash', 'magnesium',\n",
    "       'total_phenols', 'flavanoids', 'nonflavanoid_phenols',\n",
    "       'proanthocyanins', 'color_intensity', 'hue',\n",
    "       'od280/od315_of_diluted_wines', 'proline']\n",
    "\n",
    "datetime_columns = ['date_logged', 'first_harvest']"
   ]
  },
  {
   "cell_type": "code",
   "execution_count": 12,
   "metadata": {
    "ExecuteTime": {
     "end_time": "2021-02-26T15:31:47.332286Z",
     "start_time": "2021-02-26T15:31:47.328286Z"
    }
   },
   "outputs": [],
   "source": [
    "checker = InputChecker(columns=categorical_columns + numerical_columns + datetime_columns,\n",
    "                       categorical_columns=categorical_columns, \n",
    "                       numerical_columns=numerical_columns, \n",
    "                       datetime_columns=datetime_columns)"
   ]
  },
  {
   "cell_type": "markdown",
   "metadata": {},
   "source": [
    "## Fit checker"
   ]
  },
  {
   "cell_type": "markdown",
   "metadata": {},
   "source": [
    "The InputChecker is built from the tubular BaseTransformer so it has the fit and transfrom methods similarly to sklearn transformers"
   ]
  },
  {
   "cell_type": "code",
   "execution_count": 13,
   "metadata": {
    "ExecuteTime": {
     "end_time": "2021-02-26T15:31:49.085603Z",
     "start_time": "2021-02-26T15:31:49.073603Z"
    }
   },
   "outputs": [
    {
     "data": {
      "text/plain": [
       "InputChecker(categorical_columns=['polytunnel', 'pesticide'],\n",
       "             columns=['polytunnel', 'pesticide', 'alcohol', 'malic_acid', 'ash',\n",
       "                      'alcalinity_of_ash', 'magnesium', 'total_phenols',\n",
       "                      'flavanoids', 'nonflavanoid_phenols', 'proanthocyanins',\n",
       "                      'color_intensity', 'hue', 'od280/od315_of_diluted_wines',\n",
       "                      'proline', 'date_logged', 'first_harvest'],\n",
       "             datetime_columns=['date_logged', 'first_harvest'],\n",
       "             numerical_columns=['alcohol', 'malic_acid', 'ash',\n",
       "                                'alcalinity_of_ash', 'magnesium',\n",
       "                                'total_phenols', 'flavanoids',\n",
       "                                'nonflavanoid_phenols', 'proanthocyanins',\n",
       "                                'color_intensity', 'hue',\n",
       "                                'od280/od315_of_diluted_wines', 'proline'],\n",
       "             skip_infer_columns=[])"
      ]
     },
     "execution_count": 13,
     "metadata": {},
     "output_type": "execute_result"
    }
   ],
   "source": [
    "checker.fit(df_train)"
   ]
  },
  {
   "cell_type": "markdown",
   "metadata": {},
   "source": [
    "We can check whether the infer option finds the same columns when we define the key columns"
   ]
  },
  {
   "cell_type": "code",
   "execution_count": 14,
   "metadata": {
    "ExecuteTime": {
     "end_time": "2021-02-26T15:32:36.078070Z",
     "start_time": "2021-02-26T15:32:36.065070Z"
    }
   },
   "outputs": [
    {
     "data": {
      "text/plain": [
       "InputChecker(categorical_columns=['pesticide'],\n",
       "             columns=['alcohol', 'malic_acid', 'ash', 'alcalinity_of_ash',\n",
       "                      'magnesium', 'total_phenols', 'flavanoids',\n",
       "                      'nonflavanoid_phenols', 'proanthocyanins',\n",
       "                      'color_intensity', 'hue', 'od280/od315_of_diluted_wines',\n",
       "                      'proline', 'target', 'polytunnel', 'pesticide',\n",
       "                      'date_logged', 'first_harvest'],\n",
       "             datetime_columns=['date_logged', 'first_harvest'],\n",
       "             numerical_columns=['alcohol', 'malic_acid', 'ash',\n",
       "                                'alcalinity_of_ash', 'magnesium',\n",
       "                                'total_phenols', 'flavanoids',\n",
       "                                'nonflavanoid_phenols', 'proanthocyanins',\n",
       "                                'color_intensity', 'hue',\n",
       "                                'od280/od315_of_diluted_wines', 'proline',\n",
       "                                'polytunnel'],\n",
       "             skip_infer_columns=['target'])"
      ]
     },
     "execution_count": 14,
     "metadata": {},
     "output_type": "execute_result"
    }
   ],
   "source": [
    "checker_inferred = InputChecker(categorical_columns='infer', \n",
    "                       numerical_columns='infer', \n",
    "                       datetime_columns='infer',\n",
    "                       skip_infer_columns = ['target'])\n",
    "\n",
    "checker_inferred.fit(df_train)"
   ]
  },
  {
   "cell_type": "markdown",
   "metadata": {},
   "source": [
    "Notice that in this case, input_checker has inferred that `polytunnel` is a numerical rather than categorical field, as it contains the values 0 and 1."
   ]
  },
  {
   "cell_type": "markdown",
   "metadata": {},
   "source": [
    "### Class attributes"
   ]
  },
  {
   "cell_type": "markdown",
   "metadata": {},
   "source": [
    "We can check that the checker has been correctly fitted by examining the dictionaries that are now stored within the class attributes for each check as follows:\n",
    "\n",
    "* `null_map` stores the null check values\n",
    "* `expected_values` stores the categorical check values\n",
    "* `column_classes` stores the type check values\n",
    "* `numerical_values` stores the numerical check values\n",
    "* `datetime_values` stores the datetime check values\n"
   ]
  },
  {
   "cell_type": "markdown",
   "metadata": {},
   "source": [
    "#### Null check dictionary"
   ]
  },
  {
   "cell_type": "code",
   "execution_count": 15,
   "metadata": {
    "ExecuteTime": {
     "end_time": "2021-02-26T11:25:43.852546Z",
     "start_time": "2021-02-26T11:25:43.847550Z"
    }
   },
   "outputs": [
    {
     "data": {
      "text/plain": [
       "{'polytunnel': 0,\n",
       " 'pesticide': 1,\n",
       " 'alcohol': 0,\n",
       " 'malic_acid': 0,\n",
       " 'ash': 1,\n",
       " 'alcalinity_of_ash': 0,\n",
       " 'magnesium': 1,\n",
       " 'total_phenols': 0,\n",
       " 'flavanoids': 0,\n",
       " 'nonflavanoid_phenols': 0,\n",
       " 'proanthocyanins': 0,\n",
       " 'color_intensity': 0,\n",
       " 'hue': 1,\n",
       " 'od280/od315_of_diluted_wines': 0,\n",
       " 'proline': 0,\n",
       " 'date_logged': 0,\n",
       " 'first_harvest': 1}"
      ]
     },
     "execution_count": 15,
     "metadata": {},
     "output_type": "execute_result"
    }
   ],
   "source": [
    "checker.null_map"
   ]
  },
  {
   "cell_type": "code",
   "execution_count": 16,
   "metadata": {
    "ExecuteTime": {
     "end_time": "2021-02-26T11:25:58.889356Z",
     "start_time": "2021-02-26T11:25:58.881359Z"
    }
   },
   "outputs": [
    {
     "name": "stdout",
     "output_type": "stream",
     "text": [
      "ash\n",
      "magnesium\n",
      "hue\n",
      "pesticide\n",
      "first_harvest\n"
     ]
    }
   ],
   "source": [
    "for column in df_train.columns:\n",
    "    if df_train[column].isna().any():\n",
    "        print(column)"
   ]
  },
  {
   "cell_type": "markdown",
   "metadata": {},
   "source": [
    "The checker correctly stored the columns not allowed to contain nulls, these would be the features in live that would not have imputers in the pipeline"
   ]
  },
  {
   "cell_type": "markdown",
   "metadata": {},
   "source": [
    "#### Categorical check dictionary"
   ]
  },
  {
   "cell_type": "code",
   "execution_count": 17,
   "metadata": {
    "ExecuteTime": {
     "end_time": "2021-02-26T11:26:04.462550Z",
     "start_time": "2021-02-26T11:26:04.457551Z"
    }
   },
   "outputs": [
    {
     "data": {
      "text/plain": [
       "{'polytunnel': [1, 0],\n",
       " 'pesticide': ['selective',\n",
       "  'systemic',\n",
       "  'nonselective',\n",
       "  'post-emergence',\n",
       "  'pre-emergence',\n",
       "  'contact',\n",
       "  None]}"
      ]
     },
     "execution_count": 17,
     "metadata": {},
     "output_type": "execute_result"
    }
   ],
   "source": [
    "checker.expected_values"
   ]
  },
  {
   "cell_type": "code",
   "execution_count": 18,
   "metadata": {
    "ExecuteTime": {
     "end_time": "2021-02-26T11:26:05.162081Z",
     "start_time": "2021-02-26T11:26:05.135079Z"
    }
   },
   "outputs": [
    {
     "data": {
      "text/plain": [
       "(array([1, 0]),\n",
       " array(['selective', 'systemic', 'nonselective', 'post-emergence',\n",
       "        'pre-emergence', 'contact', None], dtype=object))"
      ]
     },
     "execution_count": 18,
     "metadata": {},
     "output_type": "execute_result"
    }
   ],
   "source": [
    "df_train['polytunnel'].unique(), df_train['pesticide'].unique()"
   ]
  },
  {
   "cell_type": "markdown",
   "metadata": {},
   "source": [
    "### Type checker dictionary"
   ]
  },
  {
   "cell_type": "code",
   "execution_count": 19,
   "metadata": {
    "ExecuteTime": {
     "end_time": "2021-02-26T11:26:07.861600Z",
     "start_time": "2021-02-26T11:26:07.856598Z"
    }
   },
   "outputs": [
    {
     "data": {
      "text/plain": [
       "{'polytunnel': dtype('int32'),\n",
       " 'pesticide': dtype('O'),\n",
       " 'alcohol': dtype('float64'),\n",
       " 'malic_acid': dtype('float64'),\n",
       " 'ash': dtype('float64'),\n",
       " 'alcalinity_of_ash': dtype('float64'),\n",
       " 'magnesium': dtype('float64'),\n",
       " 'total_phenols': dtype('float64'),\n",
       " 'flavanoids': dtype('float64'),\n",
       " 'nonflavanoid_phenols': dtype('float64'),\n",
       " 'proanthocyanins': dtype('float64'),\n",
       " 'color_intensity': dtype('float64'),\n",
       " 'hue': dtype('float64'),\n",
       " 'od280/od315_of_diluted_wines': dtype('float64'),\n",
       " 'proline': dtype('float64'),\n",
       " 'date_logged': dtype('<M8[ns]'),\n",
       " 'first_harvest': dtype('<M8[ns]')}"
      ]
     },
     "execution_count": 19,
     "metadata": {},
     "output_type": "execute_result"
    }
   ],
   "source": [
    "checker.column_classes"
   ]
  },
  {
   "cell_type": "code",
   "execution_count": 20,
   "metadata": {
    "ExecuteTime": {
     "end_time": "2021-02-26T11:26:10.266007Z",
     "start_time": "2021-02-26T11:26:10.259004Z"
    }
   },
   "outputs": [
    {
     "name": "stdout",
     "output_type": "stream",
     "text": [
      "alcohol float64\n",
      "malic_acid float64\n",
      "ash float64\n",
      "alcalinity_of_ash float64\n",
      "magnesium float64\n",
      "total_phenols float64\n",
      "flavanoids float64\n",
      "nonflavanoid_phenols float64\n",
      "proanthocyanins float64\n",
      "color_intensity float64\n",
      "hue float64\n",
      "od280/od315_of_diluted_wines float64\n",
      "proline float64\n",
      "target int32\n",
      "polytunnel int32\n",
      "pesticide object\n",
      "date_logged datetime64[ns]\n",
      "first_harvest datetime64[ns]\n"
     ]
    }
   ],
   "source": [
    "for column in df_train.columns:\n",
    "    print(column, df_train[column].dtype)"
   ]
  },
  {
   "cell_type": "markdown",
   "metadata": {},
   "source": [
    "The type checker correctly stores the types of each column. It is important that the columns are of the correct type during live, a float32 column would for example raise an exception for if the checker was trained on a float64 column, similarly a column contain only 1s and 0s of an int type will raise an exception if the checker was trained on a categorical column independently of if the values are the same"
   ]
  },
  {
   "cell_type": "markdown",
   "metadata": {},
   "source": [
    "### Numerical checker dictionary"
   ]
  },
  {
   "cell_type": "code",
   "execution_count": 21,
   "metadata": {
    "ExecuteTime": {
     "end_time": "2021-02-26T11:26:13.424807Z",
     "start_time": "2021-02-26T11:26:13.419807Z"
    }
   },
   "outputs": [
    {
     "data": {
      "text/plain": [
       "{'alcohol': {'maximum': 14.83, 'minimum': 11.03},\n",
       " 'malic_acid': {'maximum': 5.8, 'minimum': 0.74},\n",
       " 'ash': {'maximum': 3.23, 'minimum': 1.36},\n",
       " 'alcalinity_of_ash': {'maximum': 30.0, 'minimum': 10.6},\n",
       " 'magnesium': {'maximum': 151.0, 'minimum': 80.0},\n",
       " 'total_phenols': {'maximum': 3.88, 'minimum': 0.98},\n",
       " 'flavanoids': {'maximum': 5.08, 'minimum': 0.34},\n",
       " 'nonflavanoid_phenols': {'maximum': 0.66, 'minimum': 0.13},\n",
       " 'proanthocyanins': {'maximum': 3.58, 'minimum': 0.41},\n",
       " 'color_intensity': {'maximum': 13.0, 'minimum': 1.28},\n",
       " 'hue': {'maximum': 1.71, 'minimum': 0.57},\n",
       " 'od280/od315_of_diluted_wines': {'maximum': 4.0, 'minimum': 1.27},\n",
       " 'proline': {'maximum': 1547.0, 'minimum': 278.0}}"
      ]
     },
     "execution_count": 21,
     "metadata": {},
     "output_type": "execute_result"
    }
   ],
   "source": [
    "checker.numerical_values"
   ]
  },
  {
   "cell_type": "code",
   "execution_count": 22,
   "metadata": {
    "ExecuteTime": {
     "end_time": "2021-02-26T11:26:14.154444Z",
     "start_time": "2021-02-26T11:26:14.145443Z"
    }
   },
   "outputs": [
    {
     "name": "stdout",
     "output_type": "stream",
     "text": [
      "alcohol 14.83 11.03\n",
      "malic_acid 5.8 0.74\n",
      "ash 3.23 1.36\n",
      "alcalinity_of_ash 30.0 10.6\n",
      "magnesium 151.0 80.0\n",
      "total_phenols 3.88 0.98\n",
      "flavanoids 5.08 0.34\n",
      "nonflavanoid_phenols 0.66 0.13\n",
      "proanthocyanins 3.58 0.41\n",
      "color_intensity 13.0 1.28\n",
      "hue 1.71 0.57\n",
      "od280/od315_of_diluted_wines 4.0 1.27\n",
      "proline 1547.0 278.0\n"
     ]
    }
   ],
   "source": [
    "for column in numerical_columns:\n",
    "    print(column, df_train[column].max(), df_train[column].min())"
   ]
  },
  {
   "cell_type": "markdown",
   "metadata": {},
   "source": [
    "The numerical checker stored the correct values, if a dictionary was passed as opposed to a list of columns then checks that were set to false would contain a None value. This is useful for cases such as vehicle age, a minimum value of 0 may useful whilst a maximum value might not "
   ]
  },
  {
   "cell_type": "markdown",
   "metadata": {},
   "source": [
    "### Datetime checker dictionary"
   ]
  },
  {
   "cell_type": "code",
   "execution_count": 23,
   "metadata": {},
   "outputs": [
    {
     "data": {
      "text/plain": [
       "{'date_logged': {'maximum': None, 'minimum': Timestamp('2021-01-01 00:19:21')},\n",
       " 'first_harvest': {'maximum': None,\n",
       "  'minimum': Timestamp('2020-01-08 00:00:00')}}"
      ]
     },
     "execution_count": 23,
     "metadata": {},
     "output_type": "execute_result"
    }
   ],
   "source": [
    "checker.datetime_values"
   ]
  },
  {
   "cell_type": "code",
   "execution_count": 24,
   "metadata": {},
   "outputs": [
    {
     "name": "stdout",
     "output_type": "stream",
     "text": [
      "date_logged 2021-01-01 00:19:21\n",
      "first_harvest 2020-01-08 00:00:00\n"
     ]
    }
   ],
   "source": [
    "for column in datetime_columns :\n",
    "    print(column, df_train[column].min())"
   ]
  },
  {
   "cell_type": "markdown",
   "metadata": {},
   "source": [
    "## Transform"
   ]
  },
  {
   "cell_type": "markdown",
   "metadata": {},
   "source": [
    "The transform method runs the checks on a new dataframe and returns the dataframe that was just validated. Lets see what happens if it runs on a row of the training dataframe."
   ]
  },
  {
   "cell_type": "code",
   "execution_count": 25,
   "metadata": {
    "ExecuteTime": {
     "end_time": "2021-02-26T11:26:16.795616Z",
     "start_time": "2021-02-26T11:26:16.790625Z"
    }
   },
   "outputs": [],
   "source": [
    "df_val = df_train.tail(1)"
   ]
  },
  {
   "cell_type": "code",
   "execution_count": 26,
   "metadata": {},
   "outputs": [],
   "source": [
    "df_val_checked = checker.transform(df_val)"
   ]
  },
  {
   "cell_type": "code",
   "execution_count": 27,
   "metadata": {},
   "outputs": [
    {
     "data": {
      "text/plain": [
       "True"
      ]
     },
     "execution_count": 27,
     "metadata": {},
     "output_type": "execute_result"
    }
   ],
   "source": [
    "df_val_checked.equals(df_val)"
   ]
  },
  {
   "cell_type": "markdown",
   "metadata": {},
   "source": [
    "No checks were failed so all failed checks dictionaries remain empty and no exception message was printed. The original DF is returned."
   ]
  },
  {
   "cell_type": "markdown",
   "metadata": {},
   "source": [
    "### Failed checks"
   ]
  },
  {
   "cell_type": "markdown",
   "metadata": {},
   "source": [
    "We will now check the test set."
   ]
  },
  {
   "cell_type": "code",
   "execution_count": 28,
   "metadata": {},
   "outputs": [
    {
     "ename": "InputCheckerError",
     "evalue": "Failed maximum value check for column: magnesium; Values above maximum: {95: 162.0}\nFailed minimum value check for column: magnesium; Values below minimum: {67: 78.0, 66: 78.0, 89: 70.0}\nFailed minimum value check for column: hue; Values below minimum: {153: 0.56}\nFailed maximum value check for column: proline; Values above maximum: {18: 1680.0}\n",
     "output_type": "error",
     "traceback": [
      "\u001b[1;31m---------------------------------------------------------------------------\u001b[0m",
      "\u001b[1;31mInputCheckerError\u001b[0m                         Traceback (most recent call last)",
      "\u001b[1;32m~\\AppData\\Local\\Temp\\2/ipykernel_14948/942900840.py\u001b[0m in \u001b[0;36m<module>\u001b[1;34m\u001b[0m\n\u001b[1;32m----> 1\u001b[1;33m \u001b[0mdf_test_checked\u001b[0m \u001b[1;33m=\u001b[0m \u001b[0mchecker\u001b[0m\u001b[1;33m.\u001b[0m\u001b[0mtransform\u001b[0m\u001b[1;33m(\u001b[0m\u001b[0mdf_test\u001b[0m\u001b[1;33m)\u001b[0m\u001b[1;33m\u001b[0m\u001b[1;33m\u001b[0m\u001b[0m\n\u001b[0m",
      "\u001b[1;32mC:\\Anaconda\\envs\\env_ic\\lib\\site-packages\\input_checker\\checker.py\u001b[0m in \u001b[0;36mtransform\u001b[1;34m(self, X, batch_mode)\u001b[0m\n\u001b[0;32m   1149\u001b[0m \u001b[1;33m\u001b[0m\u001b[0m\n\u001b[0;32m   1150\u001b[0m             \u001b[1;31m# Read test results and raise exception if any have failed with check details\u001b[0m\u001b[1;33m\u001b[0m\u001b[1;33m\u001b[0m\u001b[1;33m\u001b[0m\u001b[0m\n\u001b[1;32m-> 1151\u001b[1;33m             self.raise_exception(\n\u001b[0m\u001b[0;32m   1152\u001b[0m                 \u001b[0mtype_failed_checks\u001b[0m\u001b[1;33m,\u001b[0m\u001b[1;33m\u001b[0m\u001b[1;33m\u001b[0m\u001b[0m\n\u001b[0;32m   1153\u001b[0m                 \u001b[0mnull_failed_checks\u001b[0m\u001b[1;33m,\u001b[0m\u001b[1;33m\u001b[0m\u001b[1;33m\u001b[0m\u001b[0m\n",
      "\u001b[1;32mC:\\Anaconda\\envs\\env_ic\\lib\\site-packages\\input_checker\\checker.py\u001b[0m in \u001b[0;36mraise_exception\u001b[1;34m(self, type_failed_checks, null_failed_checks, value_failed_checks, numerical_failed_checks, datetime_failed_checks)\u001b[0m\n\u001b[0;32m    811\u001b[0m \u001b[1;33m\u001b[0m\u001b[0m\n\u001b[0;32m    812\u001b[0m         \u001b[1;32mif\u001b[0m \u001b[0mlen\u001b[0m\u001b[1;33m(\u001b[0m\u001b[0mexception_message\u001b[0m\u001b[1;33m)\u001b[0m \u001b[1;33m>\u001b[0m \u001b[1;36m0\u001b[0m\u001b[1;33m:\u001b[0m\u001b[1;33m\u001b[0m\u001b[1;33m\u001b[0m\u001b[0m\n\u001b[1;32m--> 813\u001b[1;33m             \u001b[1;32mraise\u001b[0m \u001b[0mInputCheckerError\u001b[0m\u001b[1;33m(\u001b[0m\u001b[0mexception_message\u001b[0m\u001b[1;33m)\u001b[0m\u001b[1;33m\u001b[0m\u001b[1;33m\u001b[0m\u001b[0m\n\u001b[0m\u001b[0;32m    814\u001b[0m \u001b[1;33m\u001b[0m\u001b[0m\n\u001b[0;32m    815\u001b[0m     def separate_passes_and_fails(\n",
      "\u001b[1;31mInputCheckerError\u001b[0m: Failed maximum value check for column: magnesium; Values above maximum: {95: 162.0}\nFailed minimum value check for column: magnesium; Values below minimum: {67: 78.0, 66: 78.0, 89: 70.0}\nFailed minimum value check for column: hue; Values below minimum: {153: 0.56}\nFailed maximum value check for column: proline; Values above maximum: {18: 1680.0}\n"
     ]
    }
   ],
   "source": [
    "df_test_checked = checker.transform(df_test)"
   ]
  },
  {
   "cell_type": "markdown",
   "metadata": {},
   "source": [
    "Some of the values in the numerical columns exceed the minimum/maximum limits and an exception is raised.\n",
    "    \n",
    "Let's try changing some other values and examine at the InputCheckerError output."
   ]
  },
  {
   "cell_type": "code",
   "execution_count": 29,
   "metadata": {},
   "outputs": [],
   "source": [
    "df_test_mod = df_test.copy()"
   ]
  },
  {
   "cell_type": "code",
   "execution_count": 30,
   "metadata": {},
   "outputs": [],
   "source": [
    "# Failed numerical check\n",
    "df_test_mod.loc[10, 'proline'] = 10000\n",
    "\n",
    "# Failed categorical check\n",
    "df_test_mod.loc[13, 'pesticide'] = 2\n",
    "\n",
    "# Failed type check\n",
    "df_test_mod['flavanoids'] = df_test_mod['flavanoids'].apply(str)\n",
    "\n",
    "# Failed null check\n",
    "df_test_mod.loc[171, 'alcohol'] = np.nan\n",
    "\n",
    "# Failed datetime check\n",
    "df_test_mod.loc[43, 'first_harvest'] = pd.to_datetime('01/01/2017')"
   ]
  },
  {
   "cell_type": "code",
   "execution_count": 31,
   "metadata": {},
   "outputs": [
    {
     "ename": "InputCheckerError",
     "evalue": "Failed null check for column: alcohol\nFailed type check for column: flavanoids; Expected: float64, Found: object\nFailed categorical check for column: pesticide; Unexpected values: [2]\nFailed maximum value check for column: magnesium; Values above maximum: {95: 162.0}\nFailed minimum value check for column: magnesium; Values below minimum: {67: 78.0, 66: 78.0, 89: 70.0}\nFailed minimum value check for column: hue; Values below minimum: {153: 0.56}\nFailed maximum value check for column: proline; Values above maximum: {18: 1680.0, 10: 10000.0}\nFailed minimum value check for column: first_harvest; Values below minimum: {43: Timestamp('2017-01-01 00:00:00')}\n",
     "output_type": "error",
     "traceback": [
      "\u001b[1;31m---------------------------------------------------------------------------\u001b[0m",
      "\u001b[1;31mInputCheckerError\u001b[0m                         Traceback (most recent call last)",
      "\u001b[1;32m~\\AppData\\Local\\Temp\\2/ipykernel_14948/2076994835.py\u001b[0m in \u001b[0;36m<module>\u001b[1;34m\u001b[0m\n\u001b[1;32m----> 1\u001b[1;33m \u001b[0mdf_test_mod_checked\u001b[0m \u001b[1;33m=\u001b[0m \u001b[0mchecker\u001b[0m\u001b[1;33m.\u001b[0m\u001b[0mtransform\u001b[0m\u001b[1;33m(\u001b[0m\u001b[0mdf_test_mod\u001b[0m\u001b[1;33m)\u001b[0m\u001b[1;33m\u001b[0m\u001b[1;33m\u001b[0m\u001b[0m\n\u001b[0m",
      "\u001b[1;32mC:\\Anaconda\\envs\\env_ic\\lib\\site-packages\\input_checker\\checker.py\u001b[0m in \u001b[0;36mtransform\u001b[1;34m(self, X, batch_mode)\u001b[0m\n\u001b[0;32m   1149\u001b[0m \u001b[1;33m\u001b[0m\u001b[0m\n\u001b[0;32m   1150\u001b[0m             \u001b[1;31m# Read test results and raise exception if any have failed with check details\u001b[0m\u001b[1;33m\u001b[0m\u001b[1;33m\u001b[0m\u001b[1;33m\u001b[0m\u001b[0m\n\u001b[1;32m-> 1151\u001b[1;33m             self.raise_exception(\n\u001b[0m\u001b[0;32m   1152\u001b[0m                 \u001b[0mtype_failed_checks\u001b[0m\u001b[1;33m,\u001b[0m\u001b[1;33m\u001b[0m\u001b[1;33m\u001b[0m\u001b[0m\n\u001b[0;32m   1153\u001b[0m                 \u001b[0mnull_failed_checks\u001b[0m\u001b[1;33m,\u001b[0m\u001b[1;33m\u001b[0m\u001b[1;33m\u001b[0m\u001b[0m\n",
      "\u001b[1;32mC:\\Anaconda\\envs\\env_ic\\lib\\site-packages\\input_checker\\checker.py\u001b[0m in \u001b[0;36mraise_exception\u001b[1;34m(self, type_failed_checks, null_failed_checks, value_failed_checks, numerical_failed_checks, datetime_failed_checks)\u001b[0m\n\u001b[0;32m    811\u001b[0m \u001b[1;33m\u001b[0m\u001b[0m\n\u001b[0;32m    812\u001b[0m         \u001b[1;32mif\u001b[0m \u001b[0mlen\u001b[0m\u001b[1;33m(\u001b[0m\u001b[0mexception_message\u001b[0m\u001b[1;33m)\u001b[0m \u001b[1;33m>\u001b[0m \u001b[1;36m0\u001b[0m\u001b[1;33m:\u001b[0m\u001b[1;33m\u001b[0m\u001b[1;33m\u001b[0m\u001b[0m\n\u001b[1;32m--> 813\u001b[1;33m             \u001b[1;32mraise\u001b[0m \u001b[0mInputCheckerError\u001b[0m\u001b[1;33m(\u001b[0m\u001b[0mexception_message\u001b[0m\u001b[1;33m)\u001b[0m\u001b[1;33m\u001b[0m\u001b[1;33m\u001b[0m\u001b[0m\n\u001b[0m\u001b[0;32m    814\u001b[0m \u001b[1;33m\u001b[0m\u001b[0m\n\u001b[0;32m    815\u001b[0m     def separate_passes_and_fails(\n",
      "\u001b[1;31mInputCheckerError\u001b[0m: Failed null check for column: alcohol\nFailed type check for column: flavanoids; Expected: float64, Found: object\nFailed categorical check for column: pesticide; Unexpected values: [2]\nFailed maximum value check for column: magnesium; Values above maximum: {95: 162.0}\nFailed minimum value check for column: magnesium; Values below minimum: {67: 78.0, 66: 78.0, 89: 70.0}\nFailed minimum value check for column: hue; Values below minimum: {153: 0.56}\nFailed maximum value check for column: proline; Values above maximum: {18: 1680.0, 10: 10000.0}\nFailed minimum value check for column: first_harvest; Values below minimum: {43: Timestamp('2017-01-01 00:00:00')}\n"
     ]
    }
   ],
   "source": [
    "df_test_mod_checked = checker.transform(df_test_mod)"
   ]
  },
  {
   "cell_type": "markdown",
   "metadata": {},
   "source": [
    "All checks were failed for the new dataset, these results are printed in the exception message."
   ]
  },
  {
   "cell_type": "markdown",
   "metadata": {},
   "source": [
    "### Batch mode"
   ]
  },
  {
   "cell_type": "markdown",
   "metadata": {},
   "source": [
    "Alternatively, the transform can be applied with `batch_mode` set to True. In this case, rows which fail the input_checker checks are separated from rows which pass and returned as separate dataframes. No exceptions are raised."
   ]
  },
  {
   "cell_type": "code",
   "execution_count": 32,
   "metadata": {},
   "outputs": [],
   "source": [
    "# change flavanoids field back to float, otherwise all rows will fail\n",
    "df_test_mod['flavanoids'] = df_test_mod['flavanoids'].apply(float)"
   ]
  },
  {
   "cell_type": "code",
   "execution_count": null,
   "metadata": {},
   "outputs": [],
   "source": [
    "df_pass, df_fail = checker.transform(df_test_mod, batch_mode=True)"
   ]
  },
  {
   "cell_type": "code",
   "execution_count": 34,
   "metadata": {},
   "outputs": [
    {
     "name": "stdout",
     "output_type": "stream",
     "text": [
      "(26, 18)\n",
      "(10, 19)\n"
     ]
    }
   ],
   "source": [
    "print(df_pass.shape)\n",
    "print(df_fail.shape)"
   ]
  },
  {
   "cell_type": "code",
   "execution_count": 36,
   "metadata": {},
   "outputs": [
    {
     "data": {
      "text/html": [
       "<div>\n",
       "<style scoped>\n",
       "    .dataframe tbody tr th:only-of-type {\n",
       "        vertical-align: middle;\n",
       "    }\n",
       "\n",
       "    .dataframe tbody tr th {\n",
       "        vertical-align: top;\n",
       "    }\n",
       "\n",
       "    .dataframe thead th {\n",
       "        text-align: right;\n",
       "    }\n",
       "</style>\n",
       "<table border=\"1\" class=\"dataframe\">\n",
       "  <thead>\n",
       "    <tr style=\"text-align: right;\">\n",
       "      <th></th>\n",
       "      <th>alcohol</th>\n",
       "      <th>malic_acid</th>\n",
       "      <th>ash</th>\n",
       "      <th>alcalinity_of_ash</th>\n",
       "      <th>magnesium</th>\n",
       "      <th>total_phenols</th>\n",
       "      <th>flavanoids</th>\n",
       "      <th>nonflavanoid_phenols</th>\n",
       "      <th>proanthocyanins</th>\n",
       "      <th>color_intensity</th>\n",
       "      <th>hue</th>\n",
       "      <th>od280/od315_of_diluted_wines</th>\n",
       "      <th>proline</th>\n",
       "      <th>target</th>\n",
       "      <th>polytunnel</th>\n",
       "      <th>pesticide</th>\n",
       "      <th>date_logged</th>\n",
       "      <th>first_harvest</th>\n",
       "    </tr>\n",
       "  </thead>\n",
       "  <tbody>\n",
       "    <tr>\n",
       "      <th>15</th>\n",
       "      <td>13.63</td>\n",
       "      <td>1.81</td>\n",
       "      <td>2.70</td>\n",
       "      <td>17.2</td>\n",
       "      <td>112.0</td>\n",
       "      <td>2.85</td>\n",
       "      <td>2.91</td>\n",
       "      <td>0.30</td>\n",
       "      <td>1.46</td>\n",
       "      <td>7.30</td>\n",
       "      <td>1.28</td>\n",
       "      <td>2.88</td>\n",
       "      <td>1310.0</td>\n",
       "      <td>0</td>\n",
       "      <td>1</td>\n",
       "      <td>systemic</td>\n",
       "      <td>2021-01-04 16:33:34</td>\n",
       "      <td>2020-07-22</td>\n",
       "    </tr>\n",
       "    <tr>\n",
       "      <th>165</th>\n",
       "      <td>13.73</td>\n",
       "      <td>4.36</td>\n",
       "      <td>2.26</td>\n",
       "      <td>22.5</td>\n",
       "      <td>88.0</td>\n",
       "      <td>1.28</td>\n",
       "      <td>0.47</td>\n",
       "      <td>0.52</td>\n",
       "      <td>1.15</td>\n",
       "      <td>6.62</td>\n",
       "      <td>0.78</td>\n",
       "      <td>1.75</td>\n",
       "      <td>520.0</td>\n",
       "      <td>2</td>\n",
       "      <td>1</td>\n",
       "      <td>contact</td>\n",
       "      <td>2021-01-05 01:46:52</td>\n",
       "      <td>2020-08-11</td>\n",
       "    </tr>\n",
       "    <tr>\n",
       "      <th>11</th>\n",
       "      <td>14.12</td>\n",
       "      <td>1.48</td>\n",
       "      <td>2.32</td>\n",
       "      <td>16.8</td>\n",
       "      <td>95.0</td>\n",
       "      <td>2.20</td>\n",
       "      <td>2.43</td>\n",
       "      <td>0.26</td>\n",
       "      <td>1.57</td>\n",
       "      <td>5.00</td>\n",
       "      <td>NaN</td>\n",
       "      <td>2.82</td>\n",
       "      <td>1280.0</td>\n",
       "      <td>0</td>\n",
       "      <td>1</td>\n",
       "      <td>systemic</td>\n",
       "      <td>2021-01-04 15:29:09</td>\n",
       "      <td>2020-07-19</td>\n",
       "    </tr>\n",
       "    <tr>\n",
       "      <th>134</th>\n",
       "      <td>12.51</td>\n",
       "      <td>1.24</td>\n",
       "      <td>2.25</td>\n",
       "      <td>17.5</td>\n",
       "      <td>85.0</td>\n",
       "      <td>2.00</td>\n",
       "      <td>0.58</td>\n",
       "      <td>0.60</td>\n",
       "      <td>1.25</td>\n",
       "      <td>5.45</td>\n",
       "      <td>NaN</td>\n",
       "      <td>1.51</td>\n",
       "      <td>650.0</td>\n",
       "      <td>2</td>\n",
       "      <td>1</td>\n",
       "      <td>systemic</td>\n",
       "      <td>2021-01-05 22:01:21</td>\n",
       "      <td>2020-09-25</td>\n",
       "    </tr>\n",
       "    <tr>\n",
       "      <th>33</th>\n",
       "      <td>13.76</td>\n",
       "      <td>1.53</td>\n",
       "      <td>2.70</td>\n",
       "      <td>19.5</td>\n",
       "      <td>NaN</td>\n",
       "      <td>2.95</td>\n",
       "      <td>2.74</td>\n",
       "      <td>0.50</td>\n",
       "      <td>1.35</td>\n",
       "      <td>5.40</td>\n",
       "      <td>NaN</td>\n",
       "      <td>3.00</td>\n",
       "      <td>1235.0</td>\n",
       "      <td>0</td>\n",
       "      <td>1</td>\n",
       "      <td>pre-emergence</td>\n",
       "      <td>2021-01-03 11:14:31</td>\n",
       "      <td>2020-05-18</td>\n",
       "    </tr>\n",
       "  </tbody>\n",
       "</table>\n",
       "</div>"
      ],
      "text/plain": [
       "     alcohol  malic_acid   ash  alcalinity_of_ash  magnesium  total_phenols  \\\n",
       "15     13.63        1.81  2.70               17.2      112.0           2.85   \n",
       "165    13.73        4.36  2.26               22.5       88.0           1.28   \n",
       "11     14.12        1.48  2.32               16.8       95.0           2.20   \n",
       "134    12.51        1.24  2.25               17.5       85.0           2.00   \n",
       "33     13.76        1.53  2.70               19.5        NaN           2.95   \n",
       "\n",
       "     flavanoids  nonflavanoid_phenols  proanthocyanins  color_intensity   hue  \\\n",
       "15         2.91                  0.30             1.46             7.30  1.28   \n",
       "165        0.47                  0.52             1.15             6.62  0.78   \n",
       "11         2.43                  0.26             1.57             5.00   NaN   \n",
       "134        0.58                  0.60             1.25             5.45   NaN   \n",
       "33         2.74                  0.50             1.35             5.40   NaN   \n",
       "\n",
       "     od280/od315_of_diluted_wines  proline  target  polytunnel      pesticide  \\\n",
       "15                           2.88   1310.0       0           1       systemic   \n",
       "165                          1.75    520.0       2           1        contact   \n",
       "11                           2.82   1280.0       0           1       systemic   \n",
       "134                          1.51    650.0       2           1       systemic   \n",
       "33                           3.00   1235.0       0           1  pre-emergence   \n",
       "\n",
       "            date_logged first_harvest  \n",
       "15  2021-01-04 16:33:34    2020-07-22  \n",
       "165 2021-01-05 01:46:52    2020-08-11  \n",
       "11  2021-01-04 15:29:09    2020-07-19  \n",
       "134 2021-01-05 22:01:21    2020-09-25  \n",
       "33  2021-01-03 11:14:31    2020-05-18  "
      ]
     },
     "execution_count": 36,
     "metadata": {},
     "output_type": "execute_result"
    }
   ],
   "source": [
    "df_pass.head()"
   ]
  },
  {
   "cell_type": "code",
   "execution_count": 37,
   "metadata": {
    "ExecuteTime": {
     "end_time": "2021-02-26T11:26:19.933660Z",
     "start_time": "2021-02-26T11:26:19.927660Z"
    }
   },
   "outputs": [
    {
     "data": {
      "text/html": [
       "<div>\n",
       "<style scoped>\n",
       "    .dataframe tbody tr th:only-of-type {\n",
       "        vertical-align: middle;\n",
       "    }\n",
       "\n",
       "    .dataframe tbody tr th {\n",
       "        vertical-align: top;\n",
       "    }\n",
       "\n",
       "    .dataframe thead th {\n",
       "        text-align: right;\n",
       "    }\n",
       "</style>\n",
       "<table border=\"1\" class=\"dataframe\">\n",
       "  <thead>\n",
       "    <tr style=\"text-align: right;\">\n",
       "      <th></th>\n",
       "      <th>alcohol</th>\n",
       "      <th>malic_acid</th>\n",
       "      <th>ash</th>\n",
       "      <th>alcalinity_of_ash</th>\n",
       "      <th>magnesium</th>\n",
       "      <th>total_phenols</th>\n",
       "      <th>flavanoids</th>\n",
       "      <th>nonflavanoid_phenols</th>\n",
       "      <th>proanthocyanins</th>\n",
       "      <th>color_intensity</th>\n",
       "      <th>hue</th>\n",
       "      <th>od280/od315_of_diluted_wines</th>\n",
       "      <th>proline</th>\n",
       "      <th>target</th>\n",
       "      <th>polytunnel</th>\n",
       "      <th>pesticide</th>\n",
       "      <th>date_logged</th>\n",
       "      <th>first_harvest</th>\n",
       "      <th>failed_checks</th>\n",
       "    </tr>\n",
       "  </thead>\n",
       "  <tbody>\n",
       "    <tr>\n",
       "      <th>13</th>\n",
       "      <td>14.75</td>\n",
       "      <td>1.73</td>\n",
       "      <td>2.39</td>\n",
       "      <td>11.4</td>\n",
       "      <td>91.0</td>\n",
       "      <td>3.10</td>\n",
       "      <td>3.69</td>\n",
       "      <td>0.43</td>\n",
       "      <td>2.81</td>\n",
       "      <td>5.40</td>\n",
       "      <td>NaN</td>\n",
       "      <td>2.73</td>\n",
       "      <td>1150.0</td>\n",
       "      <td>0</td>\n",
       "      <td>1</td>\n",
       "      <td>2</td>\n",
       "      <td>2021-01-01 07:09:40</td>\n",
       "      <td>2020-01-23</td>\n",
       "      <td>Failed categorical check for column: pesticide...</td>\n",
       "    </tr>\n",
       "    <tr>\n",
       "      <th>67</th>\n",
       "      <td>12.37</td>\n",
       "      <td>1.17</td>\n",
       "      <td>1.92</td>\n",
       "      <td>19.6</td>\n",
       "      <td>78.0</td>\n",
       "      <td>2.11</td>\n",
       "      <td>2.00</td>\n",
       "      <td>0.27</td>\n",
       "      <td>1.04</td>\n",
       "      <td>4.68</td>\n",
       "      <td>NaN</td>\n",
       "      <td>3.48</td>\n",
       "      <td>510.0</td>\n",
       "      <td>1</td>\n",
       "      <td>0</td>\n",
       "      <td>nonselective</td>\n",
       "      <td>2021-01-02 05:14:23</td>\n",
       "      <td>NaT</td>\n",
       "      <td>Failed minimum value check for column: magnesi...</td>\n",
       "    </tr>\n",
       "    <tr>\n",
       "      <th>95</th>\n",
       "      <td>12.47</td>\n",
       "      <td>1.52</td>\n",
       "      <td>2.20</td>\n",
       "      <td>19.0</td>\n",
       "      <td>162.0</td>\n",
       "      <td>2.50</td>\n",
       "      <td>2.27</td>\n",
       "      <td>0.32</td>\n",
       "      <td>3.28</td>\n",
       "      <td>2.60</td>\n",
       "      <td>NaN</td>\n",
       "      <td>2.63</td>\n",
       "      <td>937.0</td>\n",
       "      <td>1</td>\n",
       "      <td>1</td>\n",
       "      <td>selective</td>\n",
       "      <td>2021-01-04 11:00:15</td>\n",
       "      <td>2020-07-09</td>\n",
       "      <td>Failed maximum value check for column: magnesi...</td>\n",
       "    </tr>\n",
       "    <tr>\n",
       "      <th>66</th>\n",
       "      <td>13.11</td>\n",
       "      <td>1.01</td>\n",
       "      <td>1.70</td>\n",
       "      <td>15.0</td>\n",
       "      <td>78.0</td>\n",
       "      <td>2.98</td>\n",
       "      <td>3.18</td>\n",
       "      <td>0.26</td>\n",
       "      <td>2.28</td>\n",
       "      <td>5.30</td>\n",
       "      <td>1.12</td>\n",
       "      <td>3.18</td>\n",
       "      <td>502.0</td>\n",
       "      <td>1</td>\n",
       "      <td>0</td>\n",
       "      <td>post-emergence</td>\n",
       "      <td>2021-01-04 19:38:30</td>\n",
       "      <td>2020-07-29</td>\n",
       "      <td>Failed minimum value check for column: magnesi...</td>\n",
       "    </tr>\n",
       "    <tr>\n",
       "      <th>153</th>\n",
       "      <td>13.23</td>\n",
       "      <td>3.30</td>\n",
       "      <td>2.28</td>\n",
       "      <td>18.5</td>\n",
       "      <td>98.0</td>\n",
       "      <td>1.80</td>\n",
       "      <td>0.83</td>\n",
       "      <td>0.61</td>\n",
       "      <td>1.87</td>\n",
       "      <td>10.52</td>\n",
       "      <td>0.56</td>\n",
       "      <td>1.51</td>\n",
       "      <td>675.0</td>\n",
       "      <td>2</td>\n",
       "      <td>1</td>\n",
       "      <td>None</td>\n",
       "      <td>2021-01-02 12:46:34</td>\n",
       "      <td>2020-03-29</td>\n",
       "      <td>Failed minimum value check for column: hue; Va...</td>\n",
       "    </tr>\n",
       "  </tbody>\n",
       "</table>\n",
       "</div>"
      ],
      "text/plain": [
       "     alcohol  malic_acid   ash  alcalinity_of_ash  magnesium  total_phenols  \\\n",
       "13     14.75        1.73  2.39               11.4       91.0           3.10   \n",
       "67     12.37        1.17  1.92               19.6       78.0           2.11   \n",
       "95     12.47        1.52  2.20               19.0      162.0           2.50   \n",
       "66     13.11        1.01  1.70               15.0       78.0           2.98   \n",
       "153    13.23        3.30  2.28               18.5       98.0           1.80   \n",
       "\n",
       "     flavanoids  nonflavanoid_phenols  proanthocyanins  color_intensity   hue  \\\n",
       "13         3.69                  0.43             2.81             5.40   NaN   \n",
       "67         2.00                  0.27             1.04             4.68   NaN   \n",
       "95         2.27                  0.32             3.28             2.60   NaN   \n",
       "66         3.18                  0.26             2.28             5.30  1.12   \n",
       "153        0.83                  0.61             1.87            10.52  0.56   \n",
       "\n",
       "     od280/od315_of_diluted_wines  proline target polytunnel       pesticide  \\\n",
       "13                           2.73   1150.0      0          1               2   \n",
       "67                           3.48    510.0      1          0    nonselective   \n",
       "95                           2.63    937.0      1          1       selective   \n",
       "66                           3.18    502.0      1          0  post-emergence   \n",
       "153                          1.51    675.0      2          1            None   \n",
       "\n",
       "            date_logged first_harvest  \\\n",
       "13  2021-01-01 07:09:40    2020-01-23   \n",
       "67  2021-01-02 05:14:23           NaT   \n",
       "95  2021-01-04 11:00:15    2020-07-09   \n",
       "66  2021-01-04 19:38:30    2020-07-29   \n",
       "153 2021-01-02 12:46:34    2020-03-29   \n",
       "\n",
       "                                         failed_checks  \n",
       "13   Failed categorical check for column: pesticide...  \n",
       "67   Failed minimum value check for column: magnesi...  \n",
       "95   Failed maximum value check for column: magnesi...  \n",
       "66   Failed minimum value check for column: magnesi...  \n",
       "153  Failed minimum value check for column: hue; Va...  "
      ]
     },
     "execution_count": 37,
     "metadata": {},
     "output_type": "execute_result"
    }
   ],
   "source": [
    "df_fail.head()"
   ]
  },
  {
   "cell_type": "markdown",
   "metadata": {},
   "source": [
    "Rows in the failed DF will have an extra column called 'failed_checks'. This contains information about why the input values in that row failed the input checks:\n",
    "\n",
    "* Failed type checks - columns with the expected and actual types\n",
    "* Failed null checks - columns which have nulls and are expected not to\n",
    "* Failed categorical checks - categorical columns with unexpected values\n",
    "* Failed numerical checks - numerical columns with values outside minimum and/or maximum\n",
    "* Failed datetime checks - datetime columns with values outside minimum and/or maximum"
   ]
  },
  {
   "cell_type": "code",
   "execution_count": 38,
   "metadata": {
    "ExecuteTime": {
     "end_time": "2021-02-26T11:26:27.179723Z",
     "start_time": "2021-02-26T11:26:27.175726Z"
    }
   },
   "outputs": [
    {
     "name": "stdout",
     "output_type": "stream",
     "text": [
      "13 Failed categorical check for column: pesticide. Unexpected values are [2]\n",
      "Failed type check for column: pesticide; Expected: str, Found: int\n",
      "67 Failed minimum value check for column: magnesium; Value below minimum: 78.0\n",
      "95 Failed maximum value check for column: magnesium; Value above maximum: 162.0\n",
      "66 Failed minimum value check for column: magnesium; Value below minimum: 78.0\n",
      "153 Failed minimum value check for column: hue; Value below minimum: 0.56\n",
      "89 Failed minimum value check for column: magnesium; Value below minimum: 70.0\n",
      "18 Failed maximum value check for column: proline; Value above maximum: 1680.0\n",
      "171 Failed null check for column: alcohol\n",
      "10 Failed maximum value check for column: proline; Value above maximum: 10000.0\n",
      "43 Failed minimum value check for column: first_harvest; Value below minimum: 2017-01-01\n"
     ]
    }
   ],
   "source": [
    "for i in df_fail.index:\n",
    "    \n",
    "    print(i, df_fail['failed_checks'].loc[i])"
   ]
  }
 ],
 "metadata": {
  "hide_input": false,
  "kernelspec": {
   "display_name": "env_ic",
   "language": "python",
   "name": "env_ic"
  },
  "language_info": {
   "codemirror_mode": {
    "name": "ipython",
    "version": 3
   },
   "file_extension": ".py",
   "mimetype": "text/x-python",
   "name": "python",
   "nbconvert_exporter": "python",
   "pygments_lexer": "ipython3",
   "version": "3.9.5"
  },
  "toc": {
   "base_numbering": 1,
   "nav_menu": {},
   "number_sections": true,
   "sideBar": true,
   "skip_h1_title": true,
   "title_cell": "Table of Contents",
   "title_sidebar": "Contents",
   "toc_cell": false,
   "toc_position": {},
   "toc_section_display": true,
   "toc_window_display": true
  },
  "varInspector": {
   "cols": {
    "lenName": 16,
    "lenType": 16,
    "lenVar": 40
   },
   "kernels_config": {
    "python": {
     "delete_cmd_postfix": "",
     "delete_cmd_prefix": "del ",
     "library": "var_list.py",
     "varRefreshCmd": "print(var_dic_list())"
    },
    "r": {
     "delete_cmd_postfix": ") ",
     "delete_cmd_prefix": "rm(",
     "library": "var_list.r",
     "varRefreshCmd": "cat(var_dic_list()) "
    }
   },
   "position": {
    "height": "694.646px",
    "left": "2190px",
    "right": "20px",
    "top": "120px",
    "width": "350px"
   },
   "types_to_exclude": [
    "module",
    "function",
    "builtin_function_or_method",
    "instance",
    "_Feature"
   ],
   "window_display": true
  }
 },
 "nbformat": 4,
 "nbformat_minor": 4
}
